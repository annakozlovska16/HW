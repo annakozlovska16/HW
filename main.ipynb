{
 "cells": [
  {
   "cell_type": "markdown",
   "metadata": {},
   "source": [
    "1. Привіт світ:\n",
    "- Створіть змінну і присвойте їх текстове значення \"Hello, Python\n",
    "World!\". Виведіть цю зміну на екран."
   ]
  },
  {
   "cell_type": "code",
   "execution_count": 1,
   "metadata": {},
   "outputs": [
    {
     "name": "stdout",
     "output_type": "stream",
     "text": [
      "Hello, Python World!\n"
     ]
    }
   ],
   "source": [
    "x = \"Hello, Python World!\"\n",
    "print(x)"
   ]
  },
  {
   "cell_type": "markdown",
   "metadata": {},
   "source": [
    "2. Основні математичні операції:\n",
    "- Виконайте та виведіть на екран результати додавання,\n",
    "віднімання, множення та ділення за допомогою будь-яких двох\n",
    "цілих чисел, зчитаних із консолі (за допомогою функції `input()`)."
   ]
  },
  {
   "cell_type": "code",
   "execution_count": 3,
   "metadata": {},
   "outputs": [
    {
     "name": "stdout",
     "output_type": "stream",
     "text": [
      "31\n",
      "17\n",
      "168\n",
      "3.4285714285714284\n"
     ]
    }
   ],
   "source": [
    "x = int(input('Enter the first number: '))\n",
    "y = int(input('Enter the second number: '))\n",
    "add = x + y\n",
    "sub = x - y\n",
    "mult = x * y\n",
    "div = x / y\n",
    "print(add)\n",
    "print(sub)\n",
    "print(mult)\n",
    "print(div)"
   ]
  },
  {
   "cell_type": "markdown",
   "metadata": {},
   "source": [
    "3. Маніпуляція рядком:\n",
    "- З’єднайте два різні рядки та виведіть на екран отриманий рядок і\n",
    "його довжину."
   ]
  },
  {
   "cell_type": "code",
   "execution_count": 4,
   "metadata": {},
   "outputs": [
    {
     "name": "stdout",
     "output_type": "stream",
     "text": [
      "Anna Kozlovska\n",
      "14\n"
     ]
    }
   ],
   "source": [
    "str1 = \"Anna\"\n",
    "str2 = \"Kozlovska\"\n",
    "full_name = str1 + \" \" + str2 \n",
    "print(full_name)\n",
    "print(len(full_name))"
   ]
  },
  {
   "cell_type": "markdown",
   "metadata": {},
   "source": [
    "4. Умовна логіка:\n",
    "- Напишіть програму, яка перевіряє, парне чи непарне число, і\n",
    "виводить на екран «Непарне» або «Парне»."
   ]
  },
  {
   "cell_type": "code",
   "execution_count": 6,
   "metadata": {},
   "outputs": [
    {
     "name": "stdout",
     "output_type": "stream",
     "text": [
      "Парне\n"
     ]
    }
   ],
   "source": [
    "num = int(input('Enter a number: '))\n",
    "if num % 2 == 0: print('Парне')\n",
    "else: print('Непарне')"
   ]
  },
  {
   "cell_type": "markdown",
   "metadata": {},
   "source": [
    "5. Простий цикл:\n",
    "- За допомогою циклу виведіть на екран числа від 1 до 10."
   ]
  },
  {
   "cell_type": "code",
   "execution_count": 7,
   "metadata": {},
   "outputs": [
    {
     "name": "stdout",
     "output_type": "stream",
     "text": [
      "1\n",
      "2\n",
      "3\n",
      "4\n",
      "5\n",
      "6\n",
      "7\n",
      "8\n",
      "9\n",
      "10\n"
     ]
    }
   ],
   "source": [
    "for i in range(1,11):\n",
    "    print(i)"
   ]
  },
  {
   "cell_type": "markdown",
   "metadata": {},
   "source": [
    "6. Умови If-Else:\n",
    "- Напишіть оператор if-else, який виводить на екран «Позитивний»,\n",
    "якщо змінна num більше нуля, «Негативний», якщо менше нуля, і\n",
    "«Нуль», якщо дорівнює нулю."
   ]
  },
  {
   "cell_type": "code",
   "execution_count": 12,
   "metadata": {},
   "outputs": [
    {
     "name": "stdout",
     "output_type": "stream",
     "text": [
      "Hегативний\n"
     ]
    }
   ],
   "source": [
    "num = float(input('Enter a number: '))\n",
    "if num > 0: print('Позитивний')\n",
    "elif num < 0: print('Hегативний')\n",
    "else: print('Нуль')\n"
   ]
  },
  {
   "cell_type": "markdown",
   "metadata": {},
   "source": [
    "7. Парні числа з діапазоном:\n",
    "- Виведіть усі парні числа від 1 до 10 за допомогою циклу та функції\n",
    "range. "
   ]
  },
  {
   "cell_type": "code",
   "execution_count": 13,
   "metadata": {},
   "outputs": [
    {
     "name": "stdout",
     "output_type": "stream",
     "text": [
      "2\n",
      "4\n",
      "6\n",
      "8\n",
      "10\n"
     ]
    }
   ],
   "source": [
    "for i in range(1,11):\n",
    "    if i % 2 == 0: \n",
    "        print(i)"
   ]
  },
  {
   "cell_type": "markdown",
   "metadata": {},
   "source": [
    "8. Підсумовування чисел:\n",
    "- Напишіть програму, яка обчислює та виводить на екран суму всіх\n",
    "чисел від 1 до змінної n за допомогою циклу."
   ]
  },
  {
   "cell_type": "code",
   "execution_count": 21,
   "metadata": {},
   "outputs": [
    {
     "name": "stdout",
     "output_type": "stream",
     "text": [
      "Sum = 10\n"
     ]
    }
   ],
   "source": [
    "n = int(input('Enter a number n: '))\n",
    "total = 0\n",
    "for i in range(1, n+1):\n",
    "    total += i\n",
    "print(\"Sum =\",total)"
   ]
  },
  {
   "cell_type": "markdown",
   "metadata": {},
   "source": [
    "9. Цикл зворотного відліку:\n",
    "- Використовуйте цикл, щоб вивести на екран зворотний відлік від 10\n",
    "до 1."
   ]
  },
  {
   "cell_type": "code",
   "execution_count": 22,
   "metadata": {},
   "outputs": [
    {
     "name": "stdout",
     "output_type": "stream",
     "text": [
      "10\n",
      "9\n",
      "8\n",
      "7\n",
      "6\n",
      "5\n",
      "4\n",
      "3\n",
      "2\n",
      "1\n"
     ]
    }
   ],
   "source": [
    "for i in range(10, 0, -1):\n",
    "    print(i)"
   ]
  },
  {
   "cell_type": "markdown",
   "metadata": {},
   "source": [
    "10. Вибірковий цикл:\n",
    "- Напишіть цикл, щоб вивести на екран числа від 1 до 10, але\n",
    "пропустіть 5 за допомогою продовження та зупиніть цикл, якщо\n",
    "він досягне 7, за допомогою перерви."
   ]
  },
  {
   "cell_type": "code",
   "execution_count": 27,
   "metadata": {},
   "outputs": [
    {
     "name": "stdout",
     "output_type": "stream",
     "text": [
      "1\n",
      "2\n",
      "3\n",
      "4\n",
      "6\n"
     ]
    }
   ],
   "source": [
    "for i in range(1,11):\n",
    "    if i == 5: continue\n",
    "    if i == 7: break\n",
    "    print(i)"
   ]
  }
 ],
 "metadata": {
  "kernelspec": {
   "display_name": "Python 3",
   "language": "python",
   "name": "python3"
  },
  "language_info": {
   "codemirror_mode": {
    "name": "ipython",
    "version": 3
   },
   "file_extension": ".py",
   "mimetype": "text/x-python",
   "name": "python",
   "nbconvert_exporter": "python",
   "pygments_lexer": "ipython3",
   "version": "3.13.3"
  }
 },
 "nbformat": 4,
 "nbformat_minor": 2
}
