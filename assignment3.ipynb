{
 "cells": [
  {
   "cell_type": "markdown",
   "metadata": {},
   "source": [
    "Початковий рівень"
   ]
  },
  {
   "cell_type": "code",
   "execution_count": 1,
   "metadata": {},
   "outputs": [
    {
     "name": "stdout",
     "output_type": "stream",
     "text": [
      "50\n"
     ]
    }
   ],
   "source": [
    "numbers = [2, 4, 16, 7, 21]\n",
    "suma = sum(numbers)\n",
    "print(suma)"
   ]
  },
  {
   "cell_type": "code",
   "execution_count": 2,
   "metadata": {},
   "outputs": [
    {
     "name": "stdout",
     "output_type": "stream",
     "text": [
      "3\n"
     ]
    }
   ],
   "source": [
    "numbers = [5, 3, 8, 4, 12]\n",
    "minimum = min(numbers)\n",
    "print(minimum)"
   ]
  },
  {
   "cell_type": "code",
   "execution_count": 16,
   "metadata": {},
   "outputs": [
    {
     "data": {
      "text/plain": [
       "[12, 4, 8, 3, 5]"
      ]
     },
     "execution_count": 16,
     "metadata": {},
     "output_type": "execute_result"
    }
   ],
   "source": [
    "numbers = [5, 3, 8, 4, 12,]\n",
    "numbers[::-1]"
   ]
  },
  {
   "cell_type": "code",
   "execution_count": 5,
   "metadata": {},
   "outputs": [
    {
     "name": "stdout",
     "output_type": "stream",
     "text": [
      "5\n",
      "3\n"
     ]
    }
   ],
   "source": [
    "list_num = [5, 3, 8, 4, 12]\n",
    "for num in list_num:\n",
    "    if num % 2 != 0:\n",
    "        print(num)"
   ]
  },
  {
   "cell_type": "code",
   "execution_count": 7,
   "metadata": {},
   "outputs": [
    {
     "name": "stdout",
     "output_type": "stream",
     "text": [
      "[10, 6, 16, 8, 24]\n"
     ]
    }
   ],
   "source": [
    "list_num = [5, 3, 8, 4, 12]\n",
    "mult_list = [num * 2 for num in list_num]\n",
    "print(mult_list)"
   ]
  },
  {
   "cell_type": "markdown",
   "metadata": {},
   "source": [
    "Легкий рівень"
   ]
  },
  {
   "cell_type": "code",
   "execution_count": 8,
   "metadata": {},
   "outputs": [
    {
     "name": "stdout",
     "output_type": "stream",
     "text": [
      "11\n",
      "17\n",
      "9.3\n"
     ]
    }
   ],
   "source": [
    "list_num = [3, 1, 9, 11, 17, 2, 9.3]\n",
    "x = 9\n",
    "for num in list_num:\n",
    "    if num > x:\n",
    "        print(num)"
   ]
  },
  {
   "cell_type": "code",
   "execution_count": 10,
   "metadata": {},
   "outputs": [
    {
     "name": "stdout",
     "output_type": "stream",
     "text": [
      "3.0\n"
     ]
    }
   ],
   "source": [
    "list_num = [2, -2, 3, -15, 6, 1]\n",
    "positive = [positive_num for positive_num in list_num if positive_num > 0]\n",
    "print(sum(positive)/len(positive))"
   ]
  },
  {
   "cell_type": "code",
   "execution_count": 19,
   "metadata": {},
   "outputs": [
    {
     "name": "stdout",
     "output_type": "stream",
     "text": [
      "4\n"
     ]
    }
   ],
   "source": [
    "list_num = [2, -2, 3, -15, 6, 1, 3.1]\n",
    "x = 3\n",
    "less_than_x = []\n",
    "for num in list_num:\n",
    "    if num < x:\n",
    "        less_than_x.append(num)\n",
    "print(len(less_than_x))"
   ]
  },
  {
   "cell_type": "code",
   "execution_count": 19,
   "metadata": {},
   "outputs": [
    {
     "name": "stdout",
     "output_type": "stream",
     "text": [
      "64\n"
     ]
    }
   ],
   "source": [
    "list_num = [2, 4, 7, 8, 12, 11, 40]\n",
    "y = 4\n",
    "div_by_y = []\n",
    "for num in list_num:\n",
    "    if num % y == 0: \n",
    "        div_by_y.append(num)\n",
    "print(sum(div_by_y))\n"
   ]
  },
  {
   "cell_type": "code",
   "execution_count": 20,
   "metadata": {},
   "outputs": [
    {
     "name": "stdout",
     "output_type": "stream",
     "text": [
      "[25, 9, 64, 16, 144]\n"
     ]
    }
   ],
   "source": [
    "list_num = [5, 3, 8, 4, 12]\n",
    "list_squares = []\n",
    "for num in list_num:\n",
    "    list_squares.append(num**2)\n",
    "print(list_squares)\n",
    "    "
   ]
  },
  {
   "cell_type": "code",
   "execution_count": 22,
   "metadata": {},
   "outputs": [
    {
     "name": "stdout",
     "output_type": "stream",
     "text": [
      "[2, 3, 6, 1]\n"
     ]
    }
   ],
   "source": [
    "list_num = [2, -2, 3, -15, 6, 1]\n",
    "positive_num = []\n",
    "for num in list_num:\n",
    "    if num > 0:\n",
    "        positive_num.append(num)\n",
    "print(positive_num)\n"
   ]
  },
  {
   "cell_type": "code",
   "execution_count": 23,
   "metadata": {},
   "outputs": [
    {
     "name": "stdout",
     "output_type": "stream",
     "text": [
      "['hange', 'haven', 'happy']\n"
     ]
    }
   ],
   "source": [
    "words = ['hange', 'haven', 'cat', 'happy', 'water']\n",
    "prefix = 'ha'\n",
    "words_prefix = []\n",
    "for word in words:\n",
    "    if word.startswith(prefix):\n",
    "        words_prefix.append(word)\n",
    "print(words_prefix)"
   ]
  },
  {
   "cell_type": "code",
   "execution_count": 24,
   "metadata": {},
   "outputs": [
    {
     "name": "stdout",
     "output_type": "stream",
     "text": [
      "17\n"
     ]
    }
   ],
   "source": [
    "numbers = [2, 10, 5, 3, 7, 8]\n",
    "N = 3\n",
    "suma = sum(numbers[:N])\n",
    "print(suma)"
   ]
  },
  {
   "cell_type": "code",
   "execution_count": 25,
   "metadata": {},
   "outputs": [
    {
     "name": "stdout",
     "output_type": "stream",
     "text": [
      "['mom', '1221', 'noon']\n"
     ]
    }
   ],
   "source": [
    "words = ['mom', 'dog', '1221', 'noon', 'car']\n",
    "palindromes = []\n",
    "for word in words: \n",
    "    if word == word[::-1]:\n",
    "        palindromes.append(word)\n",
    "print(palindromes)"
   ]
  },
  {
   "cell_type": "code",
   "execution_count": 26,
   "metadata": {},
   "outputs": [
    {
     "name": "stdout",
     "output_type": "stream",
     "text": [
      "[False, True, True, False, True, False]\n"
     ]
    }
   ],
   "source": [
    "numbers = [3, 14, 21, 13, 77, 10]\n",
    "divisor = 7\n",
    "divisible_by_7 = []\n",
    "for num in numbers:\n",
    "    if num % divisor == 0:\n",
    "        divisible_by_7.append(True)\n",
    "    else:\n",
    "        divisible_by_7.append(False)\n",
    "print(divisible_by_7)"
   ]
  },
  {
   "cell_type": "markdown",
   "metadata": {},
   "source": [
    "Середній рівень"
   ]
  },
  {
   "cell_type": "code",
   "execution_count": 28,
   "metadata": {},
   "outputs": [
    {
     "name": "stdout",
     "output_type": "stream",
     "text": [
      "[8, 28, 16]\n"
     ]
    }
   ],
   "source": [
    "numbers = [20, 8, 28, 25, 16]\n",
    "x = 4\n",
    "y = 5\n",
    "numbers_filtered = []\n",
    "for num in numbers:\n",
    "    if num % x == 0 and num % y != 0:\n",
    "        numbers_filtered.append(num)\n",
    "print(numbers_filtered)"
   ]
  },
  {
   "cell_type": "code",
   "execution_count": 31,
   "metadata": {},
   "outputs": [
    {
     "name": "stdout",
     "output_type": "stream",
     "text": [
      "[1, 5, 2, 8, 0, '!', '@']\n"
     ]
    }
   ],
   "source": [
    "list_of_lists = [[1, 5], [2, 8, 0], ['!', '@']]\n",
    "new_list = []\n",
    "for lists in list_of_lists:\n",
    "    for item in lists:\n",
    "        new_list.append(item)\n",
    "print(new_list)"
   ]
  },
  {
   "cell_type": "code",
   "execution_count": 2,
   "metadata": {},
   "outputs": [
    {
     "name": "stdout",
     "output_type": "stream",
     "text": [
      "T\n",
      "S\n",
      "I\n",
      "M\n",
      "P\n",
      "E\n",
      "X\n"
     ]
    }
   ],
   "source": [
    "words = [\"ThiS\", \"Is\", \"a\", \"saMPle\", \"tEXt\"]\n",
    "for text in words:\n",
    "    for letter in text:\n",
    "        if letter == letter.upper():\n",
    "            print(letter)"
   ]
  },
  {
   "cell_type": "code",
   "execution_count": 4,
   "metadata": {},
   "outputs": [
    {
     "name": "stdout",
     "output_type": "stream",
     "text": [
      "[7, 7, 7, 5, 5, 4, 2, 1, 1, 1, 1]\n",
      "{7: 3, 5: 2, 4: 1, 2: 1, 1: 4}\n"
     ]
    }
   ],
   "source": [
    "numbers = [1, 1, 1, 1, 2, 4, 5, 5, 7, 7, 7]\n",
    "numbers.sort(reverse = True)\n",
    "print(numbers)\n",
    "numbers_count = {}\n",
    "for num in numbers:\n",
    "    if num in numbers_count:\n",
    "        numbers_count[num] += 1\n",
    "    else: \n",
    "        numbers_count[num] = 1\n",
    "print(numbers_count)\n"
   ]
  },
  {
   "cell_type": "code",
   "execution_count": 5,
   "metadata": {},
   "outputs": [
    {
     "name": "stdout",
     "output_type": "stream",
     "text": [
      "[1, 2, 3, 'a', 'b', 'c']\n"
     ]
    }
   ],
   "source": [
    "list1 = [1, '@', 2, 'n', 3]\n",
    "list2 = ['a', 5, 6, 'b', 1, 'c']\n",
    "list3 = []\n",
    "for i in list1:\n",
    "    if type(i) == int:\n",
    "        list3.append(i)\n",
    "for i in list2:\n",
    "    if type(i) != int:\n",
    "        list3.append(i)\n",
    "print(list3)"
   ]
  },
  {
   "cell_type": "code",
   "execution_count": 6,
   "metadata": {},
   "outputs": [
    {
     "name": "stdout",
     "output_type": "stream",
     "text": [
      "{'food': 45, 'transport': 30, 'apartment': 150}\n"
     ]
    }
   ],
   "source": [
    "expenses = [\n",
    "    {'food': 15, 'transport': 10, 'apartment': 50},\n",
    "    {'food': 10, 'transport': 8, 'apartment': 50},\n",
    "    {'food': 20, 'transport': 12, 'apartment': 50}\n",
    "]\n",
    "total_expenses = {}\n",
    "for cost in expenses:\n",
    "    for key, value in cost.items():\n",
    "        if key in total_expenses:\n",
    "            total_expenses[key] += value\n",
    "        else:\n",
    "            total_expenses[key] = value\n",
    "print(total_expenses)\n",
    "        "
   ]
  },
  {
   "cell_type": "code",
   "execution_count": 8,
   "metadata": {},
   "outputs": [
    {
     "name": "stdout",
     "output_type": "stream",
     "text": [
      "['positive', 'negative', 'zero', 'positive', 'positive', 'negative', 'zero']\n"
     ]
    }
   ],
   "source": [
    "numbers = [2, -9, 0, 3, 4, -7, 0]\n",
    "for i in range(len(numbers)):\n",
    "    if numbers[i] > 0:\n",
    "        numbers[i] = 'positive'\n",
    "    elif numbers[i] < 0:\n",
    "        numbers[i] = 'negative'\n",
    "    else: \n",
    "        numbers[i] = 'zero'\n",
    "print(numbers)"
   ]
  },
  {
   "cell_type": "code",
   "execution_count": 9,
   "metadata": {},
   "outputs": [
    {
     "name": "stdout",
     "output_type": "stream",
     "text": [
      "2\n"
     ]
    }
   ],
   "source": [
    "strings = ['apple', 'girl', 'pool', 'laptop', 'rat']\n",
    "x = 4\n",
    "length = []\n",
    "for st in strings:\n",
    "    if len(st) > x:\n",
    "        length.append(st)\n",
    "print(len(length))"
   ]
  },
  {
   "cell_type": "code",
   "execution_count": 10,
   "metadata": {},
   "outputs": [
    {
     "name": "stdout",
     "output_type": "stream",
     "text": [
      "[1, 'a', 2, 'b', 3, 'c']\n"
     ]
    }
   ],
   "source": [
    "list1 = [1, 2, 3]\n",
    "list2 = ['a', 'b', 'c']\n",
    "list3 = []\n",
    "for i in range(len(list1)):\n",
    "    list3 = list3 + [list1[i], list2[i]]\n",
    "print(list3)"
   ]
  },
  {
   "cell_type": "code",
   "execution_count": 12,
   "metadata": {},
   "outputs": [
    {
     "name": "stdout",
     "output_type": "stream",
     "text": [
      "[2, 3, 14, 4, 10, 12]\n"
     ]
    }
   ],
   "source": [
    "numbers = [2, 3, 7, 4, 5, 6]\n",
    "x = 4\n",
    "y = 2\n",
    "numbers_mult = []\n",
    "for num in numbers:\n",
    "    if num > x:\n",
    "        numbers_mult.append(num * y)\n",
    "    else:\n",
    "        numbers_mult.append(num)\n",
    "print(numbers_mult)\n"
   ]
  }
 ],
 "metadata": {
  "kernelspec": {
   "display_name": "Python 3",
   "language": "python",
   "name": "python3"
  },
  "language_info": {
   "codemirror_mode": {
    "name": "ipython",
    "version": 3
   },
   "file_extension": ".py",
   "mimetype": "text/x-python",
   "name": "python",
   "nbconvert_exporter": "python",
   "pygments_lexer": "ipython3",
   "version": "3.13.3"
  }
 },
 "nbformat": 4,
 "nbformat_minor": 2
}
